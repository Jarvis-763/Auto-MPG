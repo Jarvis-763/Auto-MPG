{
 "cells": [
  {
   "cell_type": "code",
   "execution_count": 1,
   "id": "98f81db5-afe8-40ac-b553-2799f3fb0d3f",
   "metadata": {},
   "outputs": [],
   "source": [
    "import pandas as pd\n"
   ]
  },
  {
   "cell_type": "code",
   "execution_count": 2,
   "id": "c8972533-4461-4569-9e62-bb1b51103f5d",
   "metadata": {},
   "outputs": [],
   "source": [
    "import numpy as np\n"
   ]
  },
  {
   "cell_type": "code",
   "execution_count": 3,
   "id": "9ed821dc-f2a0-48c9-b3cd-747d07c80542",
   "metadata": {},
   "outputs": [],
   "source": [
    "\n",
    "from sklearn.model_selection import train_test_split\n"
   ]
  },
  {
   "cell_type": "code",
   "execution_count": 4,
   "id": "baf6a1aa-f1de-4501-9547-d26059839504",
   "metadata": {},
   "outputs": [],
   "source": [
    "from sklearn.linear_model import LinearRegression"
   ]
  },
  {
   "cell_type": "code",
   "execution_count": 6,
   "id": "bacaeb6c-1ad8-41b3-839f-c67de7496350",
   "metadata": {},
   "outputs": [],
   "source": [
    "from sklearn.metrics import mean_absolute_error, mean_squared_error"
   ]
  },
  {
   "cell_type": "code",
   "execution_count": 10,
   "id": "8dbf3b1e-d2db-48a1-b07e-3db83fc2643a",
   "metadata": {},
   "outputs": [],
   "source": [
    "df = pd.read_csv('C:/Users/MARIA JARVIS/Downloads/auto-mpg.csv')  "
   ]
  },
  {
   "cell_type": "code",
   "execution_count": 11,
   "id": "10657782-41a7-4160-8418-319e55a220e7",
   "metadata": {},
   "outputs": [
    {
     "name": "stdout",
     "output_type": "stream",
     "text": [
      "First few rows of the DataFrame:\n"
     ]
    }
   ],
   "source": [
    "print(\"First few rows of the DataFrame:\")"
   ]
  },
  {
   "cell_type": "code",
   "execution_count": 12,
   "id": "fa2866b4-87ca-46e6-b2de-c483dddb9061",
   "metadata": {},
   "outputs": [
    {
     "name": "stdout",
     "output_type": "stream",
     "text": [
      "    mpg  cylinders  displacement horsepower  weight  acceleration  model year  \\\n",
      "0  18.0          8         307.0        130    3504          12.0          70   \n",
      "1  15.0          8         350.0        165    3693          11.5          70   \n",
      "2  18.0          8         318.0        150    3436          11.0          70   \n",
      "3  16.0          8         304.0        150    3433          12.0          70   \n",
      "4  17.0          8         302.0        140    3449          10.5          70   \n",
      "\n",
      "   origin                   car name  \n",
      "0       1  chevrolet chevelle malibu  \n",
      "1       1          buick skylark 320  \n",
      "2       1         plymouth satellite  \n",
      "3       1              amc rebel sst  \n",
      "4       1                ford torino  \n"
     ]
    }
   ],
   "source": [
    "print(df.head())"
   ]
  },
  {
   "cell_type": "code",
   "execution_count": 13,
   "id": "44f59d00-fefe-40d5-957b-4584b2b768ff",
   "metadata": {},
   "outputs": [
    {
     "name": "stdout",
     "output_type": "stream",
     "text": [
      "First few rows of the DataFrame:\n",
      "    mpg  cylinders  displacement horsepower  weight  acceleration  model year  \\\n",
      "0  18.0          8         307.0        130    3504          12.0          70   \n",
      "1  15.0          8         350.0        165    3693          11.5          70   \n",
      "2  18.0          8         318.0        150    3436          11.0          70   \n",
      "3  16.0          8         304.0        150    3433          12.0          70   \n",
      "4  17.0          8         302.0        140    3449          10.5          70   \n",
      "\n",
      "   origin                   car name  \n",
      "0       1  chevrolet chevelle malibu  \n",
      "1       1          buick skylark 320  \n",
      "2       1         plymouth satellite  \n",
      "3       1              amc rebel sst  \n",
      "4       1                ford torino  \n"
     ]
    }
   ],
   "source": [
    "print(\"First few rows of the DataFrame:\")\n",
    "print(df.head())"
   ]
  },
  {
   "cell_type": "code",
   "execution_count": 15,
   "id": "73f18afc-4fd7-4dff-ba83-baf1e5e6f05d",
   "metadata": {},
   "outputs": [],
   "source": [
    "df['horsepower'] = pd.to_numeric(df['horsepower'], errors='coerce')"
   ]
  },
  {
   "cell_type": "code",
   "execution_count": 18,
   "id": "4fd5b1cf-6a03-40ac-a763-866af8c05e5e",
   "metadata": {},
   "outputs": [],
   "source": [
    "df = df.dropna().replace({chr(0xA0): ' '}, regex=True)  "
   ]
  },
  {
   "cell_type": "code",
   "execution_count": 19,
   "id": "8c8bfa1c-1370-452b-8ed8-cbf42a27a94a",
   "metadata": {},
   "outputs": [],
   "source": [
    "X_local = df[['cylinders', 'displacement', 'horsepower', 'weight', 'acceleration', 'model year']]"
   ]
  },
  {
   "cell_type": "code",
   "execution_count": 20,
   "id": "2e17cef9-144b-448d-ad13-37d1e34a406f",
   "metadata": {},
   "outputs": [
    {
     "name": "stdout",
     "output_type": "stream",
     "text": [
      "\n",
      "First few rows of the features (X) and target (y):\n",
      "   cylinders  displacement  horsepower  weight  acceleration  model year\n",
      "0          8         307.0       130.0    3504          12.0          70\n",
      "1          8         350.0       165.0    3693          11.5          70\n",
      "2          8         318.0       150.0    3436          11.0          70\n",
      "3          8         304.0       150.0    3433          12.0          70\n",
      "4          8         302.0       140.0    3449          10.5          70\n",
      "0    18.0\n",
      "1    15.0\n",
      "2    18.0\n",
      "3    16.0\n",
      "4    17.0\n",
      "Name: mpg, dtype: float64\n"
     ]
    }
   ],
   "source": [
    "y_local = df['mpg']\n",
    "print(\"\\nFirst few rows of the features (X) and target (y):\")\n",
    "print(X_local.head())\n",
    "print(y_local.head())"
   ]
  },
  {
   "cell_type": "code",
   "execution_count": 21,
   "id": "26130fdd-8e04-4d39-9b85-9568eddb29b1",
   "metadata": {},
   "outputs": [],
   "source": [
    "X_train, X_test, y_train, y_test = train_test_split(X_local, y_local, test_size=0.2, random_state=42)"
   ]
  },
  {
   "cell_type": "code",
   "execution_count": 22,
   "id": "bbc86750-bbef-43db-93b4-88d5a6ee799d",
   "metadata": {},
   "outputs": [
    {
     "name": "stdout",
     "output_type": "stream",
     "text": [
      "Coefficients: [-0.116173    0.00101347 -0.00227634 -0.00656101  0.06173551  0.76063644]\n",
      "Intercept: -15.05775858528234\n"
     ]
    }
   ],
   "source": [
    "model = LinearRegression()\n",
    "model.fit(X_train, y_train)\n",
    "print(\"Coefficients:\", model.coef_)\n",
    "print(\"Intercept:\", model.intercept_)"
   ]
  },
  {
   "cell_type": "code",
   "execution_count": 24,
   "id": "f2e3f523-66f7-41c4-91e4-a04bb0845254",
   "metadata": {},
   "outputs": [],
   "source": [
    "y_pred = model.predict(X_test)"
   ]
  },
  {
   "cell_type": "code",
   "execution_count": 27,
   "id": "9625e031-55b6-40da-b836-8bc91683a268",
   "metadata": {},
   "outputs": [
    {
     "name": "stdout",
     "output_type": "stream",
     "text": [
      "/nPredicted values: [25.93279618 26.29927859 32.96548909 26.8544302  29.45372581]\n"
     ]
    }
   ],
   "source": [
    "print(\"/nPredicted values:\",y_pred[:5])"
   ]
  },
  {
   "cell_type": "code",
   "execution_count": 28,
   "id": "02d75836-b0a1-4254-b1a7-09781fd7cf49",
   "metadata": {},
   "outputs": [],
   "source": [
    "mae = mean_absolute_error(y_test, y_pred)\n",
    "mse = mean_squared_error(y_test, y_pred)\n",
    "rmse = np.sqrt(mse)\n"
   ]
  },
  {
   "cell_type": "code",
   "execution_count": 29,
   "id": "6b35161c-b143-42ff-bacb-a116783d4b71",
   "metadata": {},
   "outputs": [
    {
     "name": "stdout",
     "output_type": "stream",
     "text": [
      "\n",
      "Mean Absolute Error (MAE): 2.5038600897761296\n",
      "Mean Squared Error (MSE): 10.502370329417335\n",
      "Root Mean Squared Error (RMSE): 3.2407360783342627\n"
     ]
    }
   ],
   "source": [
    "print(f\"\\nMean Absolute Error (MAE): {mae}\")\n",
    "print(f\"Mean Squared Error (MSE): {mse}\")\n",
    "print(f\"Root Mean Squared Error (RMSE): {rmse}\")"
   ]
  },
  {
   "cell_type": "code",
   "execution_count": 30,
   "id": "5e69c6e7-6607-4188-a888-61be4f5bf4e8",
   "metadata": {},
   "outputs": [],
   "source": [
    "import matplotlib.pyplot as plt"
   ]
  },
  {
   "cell_type": "code",
   "execution_count": 31,
   "id": "0f3b997a-2293-4754-a72d-4a8e0a8d2a8b",
   "metadata": {},
   "outputs": [
    {
     "data": {
      "text/plain": [
       "<matplotlib.collections.PathCollection at 0x248d5048320>"
      ]
     },
     "execution_count": 31,
     "metadata": {},
     "output_type": "execute_result"
    },
    {
     "data": {
      "image/png": "[encoded data removed]",
      "text/plain": [
       "<Figure size 640x480 with 1 Axes>"
      ]
     },
     "metadata": {},
     "output_type": "display_data"
    }
   ],
   "source": [
    "plt.scatter(y_test, y_pred)"
   ]
  },
  {
   "cell_type": "code",
   "execution_count": 32,
   "id": "bf458914-eb43-4b87-b81b-5b98ad846469",
   "metadata": {},
   "outputs": [
    {
     "data": {
      "image/png": "[encoded data removed]",
      "text/plain": [
       "<Figure size 640x480 with 1 Axes>"
      ]
     },
     "metadata": {},
     "output_type": "display_data"
    }
   ],
   "source": [
    "plt.xlabel(\"Actual MPG\")\n",
    "plt.ylabel(\"Predicted MPG\")\n",
    "plt.title(\"Predicted vs Actual MPG\")\n",
    "plt.show()"
   ]
  },
  {
   "cell_type": "code",
   "execution_count": 33,
   "id": "97a3dbcc-0d81-4643-8ed7-e9bbd457df82",
   "metadata": {},
   "outputs": [
    {
     "data": {
      "image/png": "[encoded data removed]",
      "text/plain": [
       "<Figure size 640x480 with 1 Axes>"
      ]
     },
     "metadata": {},
     "output_type": "display_data"
    }
   ],
   "source": [
    "residuals = y_test - y_pred\n",
    "plt.scatter(y_pred, residuals)\n",
    "plt.axhline(y=0, color='r', linestyle='--')\n",
    "plt.xlabel(\"Predicted MPG\")\n",
    "plt.ylabel(\"Residuals\")\n",
    "plt.title(\"Residual Plot\")\n",
    "plt.show()"
   ]
  },
  {
   "cell_type": "code",
   "execution_count": null,
   "id": "2338e424-27d4-4f03-9526-001f6f75aca0",
   "metadata": {},
   "outputs": [],
   "source": []
  }
 ],
 "metadata": {
  "kernelspec": {
   "display_name": "Python 3 (ipykernel)",
   "language": "python",
   "name": "python3"
  },
  "language_info": {
   "codemirror_mode": {
    "name": "ipython",
    "version": 3
   },
   "file_extension": ".py",
   "mimetype": "text/x-python",
   "name": "python",
   "nbconvert_exporter": "python",
   "pygments_lexer": "ipython3",
   "version": "3.12.7"
  }
 },
 "nbformat": 4,
 "nbformat_minor": 5
}
